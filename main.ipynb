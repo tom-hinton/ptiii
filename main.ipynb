{
 "cells": [
  {
   "cell_type": "markdown",
   "metadata": {},
   "source": [
    "### Get set up"
   ]
  },
  {
   "cell_type": "code",
   "execution_count": 2,
   "metadata": {},
   "outputs": [],
   "source": [
    "# IMPORTS\n",
    "import os\n",
    "import pandas as pd\n",
    "import numpy as np\n",
    "from utils.load_utils import import_brava_data, get_exp_meta, normalise_shear, NumpyEncoder\n",
    "from utils.data_utils import calculate_best_m_tau, calculate_lyapunov_exponents\n",
    "import utils.plot_utils as plot\n",
    "import matplotlib.pyplot as plt\n",
    "from datetime import datetime\n",
    "import json\n",
    "\n",
    "# JUPYTER\n",
    "# %matplotlib widget\n",
    "%reload_ext autoreload\n",
    "%autoreload 2\n",
    "\n",
    "# FILENAMES\n",
    "exp_code = \"b1383\"\n",
    "run_code = \"02\"\n",
    "working_dir = os.getcwd()\n",
    "data_dir = working_dir + \"/data\"\n",
    "results_dir = working_dir + \"/results/\" + run_code\n",
    "if not \"params\" in globals():\n",
    "    params={}\n",
    "params.update({\n",
    "    \"working_dir\": working_dir,\n",
    "    \"exp_code\": exp_code,\n",
    "    \"run_code\": run_code,\n",
    "    \"data_filename\": data_dir + '/' + exp_code + '.txt',\n",
    "    \"data_picklename\": data_dir + '/' + exp_code + '.pickle',\n",
    "    \"results_dir\": results_dir\n",
    "})\n",
    "if not os.path.exists(results_dir):\n",
    "    os.makedirs(results_dir)"
   ]
  },
  {
   "cell_type": "markdown",
   "metadata": {},
   "source": [
    "### Import data"
   ]
  },
  {
   "cell_type": "code",
   "execution_count": 3,
   "metadata": {},
   "outputs": [
    {
     "name": "stdout",
     "output_type": "stream",
     "text": [
      "Importing BRAVA data...\n",
      "...reading data from file...\n",
      "Resampling column: V-LVDT\n",
      "Resampling column: H-LVDT\n",
      "Resampling column: SHEAR STRESS\n",
      "Resampling column: NORMAL STRESS\n",
      "Resampling column: ON BOARD LVDT\n",
      "Resampling column: V Load aux\n",
      "Resampling column: Record\n",
      "... data imported\n",
      "      V-LVDT    H-LVDT  SHEAR STRESS  NORMAL STRESS  ON BOARD LVDT  \\\n",
      "0 -15.131615  5.226966      9.630810       7.497468    6249.136715   \n",
      "1 -31.657716  6.178788      9.871680       7.497285    8772.464915   \n",
      "2 -27.720415  5.952087      9.811924       7.497096    8172.364223   \n",
      "3 -30.048910  6.086069      9.843103       7.497221    8527.502575   \n",
      "4 -28.391140  5.990695      9.823957       7.497150    8275.512776   \n",
      "\n",
      "   V Load aux         TIME        Record  NORMALISED SHEAR  \n",
      "0    0.475953  1940.000000  2.810262e+06          0.654709  \n",
      "1    0.493501  1940.050001  5.029166e+05          0.993747  \n",
      "2    0.489146  1940.100001  1.052594e+06          0.909642  \n",
      "3    0.491443  1940.150002  7.274995e+05          0.953531  \n",
      "4    0.489953  1940.200002  9.589191e+05          0.926587  \n"
     ]
    },
    {
     "data": {
      "text/plain": [
       "[<matplotlib.lines.Line2D at 0x7f79093f1050>]"
      ]
     },
     "execution_count": 3,
     "metadata": {},
     "output_type": "execute_result"
    },
    {
     "data": {
      "image/png": "[encoded data removed]",
      "text/plain": [
       "<Figure size 640x480 with 1 Axes>"
      ]
     },
     "metadata": {},
     "output_type": "display_data"
    }
   ],
   "source": [
    "# IMPORT PARAMS\n",
    "params.update({\n",
    "    \"exp_meta\": get_exp_meta(params),\n",
    "    \"downsample_factor\": 50\n",
    "})\n",
    "\n",
    "# IMPORT\n",
    "data = import_brava_data(params)\n",
    "print(\"... data imported\")\n",
    "\n",
    "# HAVE A LOOK\n",
    "print(data.head())\n",
    "plt.plot(data[\"TIME\"], data[\"SHEAR STRESS\"])"
   ]
  },
  {
   "cell_type": "markdown",
   "metadata": {},
   "source": [
    "### Generate windows"
   ]
  },
  {
   "cell_type": "code",
   "execution_count": 5,
   "metadata": {},
   "outputs": [],
   "source": [
    "win_length = 3000\n",
    "win_offset = 1000\n",
    "start_offset = 10\n",
    "num_wins = (len(data) - win_length - start_offset) // win_offset\n",
    "wins = np.empty((num_wins, 2), dtype=np.int_)\n",
    "for i, _ in enumerate(wins):\n",
    "    wins[i] = (i*win_offset + start_offset, i*win_offset + start_offset + win_length)\n",
    "\n",
    "params.update({ \"wins\": wins, \"save_wins\": [4,8,20,40,65] })"
   ]
  },
  {
   "cell_type": "markdown",
   "metadata": {},
   "source": [
    "### Runtime params"
   ]
  },
  {
   "cell_type": "code",
   "execution_count": 6,
   "metadata": {},
   "outputs": [],
   "source": [
    "\n",
    "params.update({\n",
    "\n",
    "    # CALCULATE BEST m, tau BY CAO (1997)\n",
    "    \"tau_to_try\": np.array([5,10,15,20,25,30,35,40,45,50]),\n",
    "    \"m_to_try\": np.arange(1,15,1),\n",
    "    \"E1_threshold\": 0.9,\n",
    "    \"E2_threshold\": 0.9,\n",
    "    \"eps_over_L0\": 0.05,\n",
    "    \"n_neighbors\": 20,\n",
    "\n",
    "    # LYAPUNOV CALCULATIONS\n",
    "    \"LEs_sampling\": ['rand',None]\n",
    "})\n"
   ]
  },
  {
   "cell_type": "markdown",
   "metadata": {},
   "source": [
    "# The loop"
   ]
  },
  {
   "cell_type": "code",
   "execution_count": null,
   "metadata": {},
   "outputs": [],
   "source": [
    "FLAG_SAVE = True\n",
    "params.update({ \"run_start_time\": datetime.now(), \"current_loop\": 0 })\n",
    "\n",
    "results = []\n",
    "\n",
    "for i, win in enumerate(params[\"wins\"]):\n",
    "    print(\"WINDOW \", (i+1), \"/\", len(params[\"wins\"]))\n",
    "    params.update({\"current_loop\": i})\n",
    "    data_ = data[win[0]:win[1]].copy()\n",
    "    data_ = normalise_shear(data_)\n",
    "\n",
    "    m, tau = calculate_best_m_tau(data_, params, plot=(i in params[\"save_wins\"]), save=FLAG_SAVE)\n",
    "    print(\"Best m = \", m, \", tau=\", tau)\n",
    "\n",
    "    if ~np.isnan(m):\n",
    "        LEs, KYD = calculate_lyapunov_exponents(data_, params, m, tau)\n",
    "        print(\"Lyapunov Exponents:\", LEs)\n",
    "        print(\"Kaplan-Yorke dimension:\", KYD)\n",
    "    else:\n",
    "        LEs = []\n",
    "        KYD = np.nan\n",
    "\n",
    "    results.append({ \"t\": data_.iloc[0].TIME, \"m\": m, \"tau\": tau, \"LEs\": LEs, \"KYD\": KYD })\n",
    "    print(\"\\n\" + (\"_\"*20) + \"\\n\")\n",
    "\n",
    "results = pd.DataFrame(results)\n",
    "\n",
    "plot.dimensionality_vs_time(data, results, params, save=FLAG_SAVE)\n",
    "plot.tau_vs_time(data, results, params, save=FLAG_SAVE)\n",
    "\n",
    "params.update({ \"run_end_time\": datetime.now() })\n",
    "\n",
    "if FLAG_SAVE:\n",
    "    results.to_csv(params[\"results_dir\"] + \"/results.csv\")\n",
    "    with open(params[\"results_dir\"] + \"/params.json\", 'w') as f:\n",
    "        f.write( json.dumps(params, cls=NumpyEncoder) )\n",
    "    "
   ]
  }
 ],
 "metadata": {
  "kernelspec": {
   "display_name": ".venv",
   "language": "python",
   "name": "python3"
  },
  "language_info": {
   "codemirror_mode": {
    "name": "ipython",
    "version": 3
   },
   "file_extension": ".py",
   "mimetype": "text/x-python",
   "name": "python",
   "nbconvert_exporter": "python",
   "pygments_lexer": "ipython3",
   "version": "3.11.2"
  }
 },
 "nbformat": 4,
 "nbformat_minor": 2
}
