{
 "cells": [
  {
   "cell_type": "markdown",
   "metadata": {},
   "source": [
    "### Get set up"
   ]
  },
  {
   "cell_type": "code",
   "execution_count": null,
   "metadata": {},
   "outputs": [],
   "source": [
    "# IMPORTS\n",
    "import os\n",
    "import pandas as pd\n",
    "import numpy as np\n",
    "from utils.load_utils import import_brava_data, get_exp_meta, normalise_shear, NumpyEncoder\n",
    "from utils.data_utils import calculate_best_m_tau, calculate_lyapunov_exponents\n",
    "import utils.plot_utils as plot\n",
    "import matplotlib.pyplot as plt\n",
    "from datetime import datetime\n",
    "import json\n",
    "\n",
    "# JUPYTER\n",
    "# %matplotlib widget\n",
    "%reload_ext autoreload\n",
    "%autoreload 2\n",
    "\n",
    "# FILENAMES\n",
    "exp_code = \"b1378\"\n",
    "run_code = \"05\"\n",
    "working_dir = os.getcwd()\n",
    "data_dir = working_dir + \"/data\"\n",
    "results_dir = working_dir + \"/results/\" + run_code\n",
    "if not \"params\" in globals():\n",
    "    params={}\n",
    "params.update({\n",
    "    \"working_dir\": working_dir,\n",
    "    \"exp_code\": exp_code,\n",
    "    \"run_code\": run_code,\n",
    "    \"data_filename\": data_dir + '/' + exp_code + '.txt',\n",
    "    \"data_picklename\": data_dir + '/' + exp_code + '.pickle',\n",
    "    \"results_dir\": results_dir\n",
    "})\n",
    "if not os.path.exists(results_dir):\n",
    "    os.makedirs(results_dir)"
   ]
  },
  {
   "cell_type": "markdown",
   "metadata": {},
   "source": [
    "### Import data"
   ]
  },
  {
   "cell_type": "code",
   "execution_count": null,
   "metadata": {},
   "outputs": [],
   "source": [
    "# IMPORT PARAMS\n",
    "params.update({\n",
    "    \"exp_meta\": get_exp_meta(params),\n",
    "    \"downsample_factor\": 10\n",
    "})\n",
    "\n",
    "# IMPORT\n",
    "data = import_brava_data(params)\n",
    "print(\"... data imported\")\n",
    "\n",
    "# HAVE A LOOK\n",
    "print(data.head())\n",
    "plt.plot(data[\"TIME\"], data[\"SHEAR STRESS\"])"
   ]
  },
  {
   "cell_type": "markdown",
   "metadata": {},
   "source": [
    "### Generate windows"
   ]
  },
  {
   "cell_type": "code",
   "execution_count": null,
   "metadata": {},
   "outputs": [],
   "source": [
    "win_length = 250000\n",
    "win_offset = 125000\n",
    "num_wins = (len(data) - win_length) // win_offset\n",
    "wins = []\n",
    "for i in range(num_wins):\n",
    "    wins.append((i*win_offset, i*win_offset + win_length))\n",
    "params.update({ \"wins\": wins })\n",
    "print(num_wins)"
   ]
  },
  {
   "cell_type": "code",
   "execution_count": null,
   "metadata": {},
   "outputs": [],
   "source": [
    "# turn ROIs into windows\n",
    "wins = []\n",
    "for roi in params[\"exp_meta\"][\"ROIs\"]:\n",
    "    masked = data[ data[\"TIME\"].between(roi[0], roi[1]) ]\n",
    "    wins.append((masked.index[0], masked.index[-1]))\n",
    "params.update({ \"wins\": wins })"
   ]
  },
  {
   "cell_type": "markdown",
   "metadata": {},
   "source": [
    "### Runtime params"
   ]
  },
  {
   "cell_type": "code",
   "execution_count": null,
   "metadata": {},
   "outputs": [],
   "source": [
    "\n",
    "params.update({\n",
    "\n",
    "    # VIEW SOME WINDOWS\n",
    "    \"save_wins\": [0,1,2,5,9,10,11],\n",
    "\n",
    "    # CALCULATE BEST m, tau BY CAO (1997)\n",
    "    \"tau_to_try\": np.array([5,15,30,50,80,120,170,250]),\n",
    "    \"m_to_try\": np.arange(1,12,1),\n",
    "    \"E1_threshold\": 0.9,\n",
    "    \"E2_threshold\": 0.9,\n",
    "    \"eps_over_L0\": 0.05,\n",
    "    \"n_neighbors\": 20,\n",
    "\n",
    "    # LYAPUNOV CALCULATIONS\n",
    "    \"LEs_sampling\": ['rand',None]\n",
    "})\n"
   ]
  },
  {
   "cell_type": "markdown",
   "metadata": {},
   "source": [
    "# The loop"
   ]
  },
  {
   "cell_type": "code",
   "execution_count": null,
   "metadata": {},
   "outputs": [],
   "source": [
    "FLAG_SAVE = True\n",
    "params.update({ \"run_start_time\": datetime.now(), \"current_loop\": 0 })\n",
    "\n",
    "results = []\n",
    "\n",
    "for i, win in enumerate(params[\"wins\"]):\n",
    "    print(\"WINDOW \", (i+1), \"/\", len(params[\"wins\"]))\n",
    "    params.update({\"current_loop\": i})\n",
    "    data_ = data[win[0]:win[1]].copy()\n",
    "    data_ = normalise_shear(data_)\n",
    "\n",
    "    m, tau = calculate_best_m_tau(data_, params, fig=(i in params[\"save_wins\"]), save=FLAG_SAVE)\n",
    "    print(\"Best m = \", m, \", tau=\", tau)\n",
    "\n",
    "    if ~np.isnan(m):\n",
    "        LEs, KYD = calculate_lyapunov_exponents(data_, params, m, tau)\n",
    "        print(\"Lyapunov Exponents:\", LEs)\n",
    "        print(\"Kaplan-Yorke dimension:\", KYD)\n",
    "    else:\n",
    "        LEs = []\n",
    "        KYD = np.nan\n",
    "\n",
    "    results.append({ \"t\": data_.iloc[0].TIME, \"m\": m, \"tau\": tau, \"LEs\": LEs, \"KYD\": KYD })\n",
    "    print(\"\\n\" + (\"_\"*20) + \"\\n\")\n",
    "\n",
    "results = pd.DataFrame(results)\n",
    "\n",
    "plot.dimensionality_vs_time(data, results, params, save=FLAG_SAVE)\n",
    "plot.tau_vs_time(data, results, params, save=FLAG_SAVE)\n",
    "\n",
    "params.update({ \"run_end_time\": datetime.now() })\n",
    "\n",
    "if FLAG_SAVE:\n",
    "    results.to_csv(params[\"results_dir\"] + \"/results.csv\")\n",
    "    with open(params[\"results_dir\"] + \"/params.json\", 'w') as f:\n",
    "        f.write( json.dumps(params, indent=4, cls=NumpyEncoder) )\n",
    "    "
   ]
  }
 ],
 "metadata": {
  "kernelspec": {
   "display_name": ".venv",
   "language": "python",
   "name": "python3"
  },
  "language_info": {
   "codemirror_mode": {
    "name": "ipython",
    "version": 3
   },
   "file_extension": ".py",
   "mimetype": "text/x-python",
   "name": "python",
   "nbconvert_exporter": "python",
   "pygments_lexer": "ipython3",
   "version": "3.11.2"
  }
 },
 "nbformat": 4,
 "nbformat_minor": 2
}
