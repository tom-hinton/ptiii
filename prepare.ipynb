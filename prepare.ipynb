{
 "cells": [
  {
   "cell_type": "code",
   "execution_count": 1,
   "metadata": {},
   "outputs": [],
   "source": [
    "from utils.load_utils import get_exp_meta\n",
    "\n",
    "# EXPERIMENT META \n",
    "exp_code = \"b1382\"\n",
    "exp_meta = get_exp_meta(exp_code)\n",
    "run_code = \"10\"\n",
    "desired_sampling_freq = 50"
   ]
  },
  {
   "cell_type": "code",
   "execution_count": 2,
   "metadata": {},
   "outputs": [],
   "source": [
    "import os\n",
    "\n",
    "# JUPYTER\n",
    "# %matplotlib widget\n",
    "%reload_ext autoreload\n",
    "%autoreload 2\n",
    "\n",
    "# FILENAMES\n",
    "working_dir = os.getcwd()\n",
    "data_dir = working_dir + \"/data\"\n",
    "results_dir = working_dir + \"/results/\" + run_code\n",
    "datapath = data_dir + \"/\" + exp_code + \".txt\"\n",
    "picklepath = data_dir + '/' + exp_code + \"_\" + str(desired_sampling_freq) + \"hz.pickle\"\n",
    "\n",
    "# MAKE RESULTS DIR IF NOT EXISTS\n",
    "if os.path.exists(results_dir):\n",
    "    if os.listdir(results_dir):\n",
    "        print(\"WARNING: results dir already contains data\")\n",
    "else:\n",
    "    os.makedirs(results_dir)"
   ]
  },
  {
   "cell_type": "markdown",
   "metadata": {},
   "source": [
    "## Import data"
   ]
  },
  {
   "cell_type": "code",
   "execution_count": null,
   "metadata": {},
   "outputs": [],
   "source": [
    "from utils.load_utils import import_brava_data\n",
    "import matplotlib.pyplot as plt\n",
    "\n",
    "# IMPORT\n",
    "args = dict((k, exp_meta[k]) for k in [\"t_start\", \"t_end\", \"ROIs\", \"LVDT_readjustments\", \"LVDT_method\"] if k in exp_meta)\n",
    "data = import_brava_data(datapath, picklepath, downsample_factor=(exp_meta[\"sampling_freq\"] / desired_sampling_freq), **args)\n",
    "\n",
    "# HAVE A LOOK\n",
    "print(\"\\n\", data.head())\n",
    "# plt.close(\"all\")\n",
    "plt.plot(data[\"TIME\"], data[\"SHEAR STRESS\"])\n",
    "# plt.show()\n",
    "\n",
    "# TO CSV FOR JULIA\n",
    "csvtspath = data_dir + '/' + exp_code + \"_\" + str(desired_sampling_freq) + \"hz_ts.csv\"\n",
    "if not os.path.isfile(csvtspath):\n",
    "    data.to_csv(csvtspath, columns=[\"SHEAR STRESS\"])"
   ]
  },
  {
   "cell_type": "markdown",
   "metadata": {},
   "source": [
    "## Generate windows"
   ]
  },
  {
   "cell_type": "code",
   "execution_count": null,
   "metadata": {},
   "outputs": [],
   "source": [
    "# sliding windows\n",
    "win_length = 6000\n",
    "win_offset = 3000\n",
    "\n",
    "num_wins = (len(data) - win_length) // win_offset\n",
    "windows = []\n",
    "for i in range(num_wins):\n",
    "    windows.append((i*win_offset, i*win_offset + win_length))\n",
    "print(\"Number of windows:\", num_wins)"
   ]
  },
  {
   "cell_type": "code",
   "execution_count": 15,
   "metadata": {},
   "outputs": [],
   "source": [
    "# turn ROIs into windows\n",
    "# windows = []\n",
    "# for roi in exp_meta[\"ROIs\"]:\n",
    "#     masked = data[ data[\"TIME\"].between(roi[0], roi[1]) ]\n",
    "#     windows.append((masked.index[0], masked.index[-1]))"
   ]
  },
  {
   "cell_type": "markdown",
   "metadata": {},
   "source": [
    "## Set dynamics parameters"
   ]
  },
  {
   "cell_type": "code",
   "execution_count": 5,
   "metadata": {},
   "outputs": [],
   "source": [
    "import numpy as np\n",
    "dynsys_params = {\n",
    "\n",
    "    # CALCULATE BEST m, tau BY CAO (1997)\n",
    "    \"tau_to_try\": np.array([2,5,8,15,23,32,45,60,70,85,100]),\n",
    "    \"m_to_try\": np.arange(1,13,1),\n",
    "    \"E1_thresh\": 0.9,\n",
    "    \"E2_thresh\": 0.9,\n",
    "    \"eps_over_L0\": 0.05,\n",
    "    \"n_neighbors\": 13,\n",
    "\n",
    "    # LYAPUNOV CALCULATIONS\n",
    "    \"sampling\": ['rand',None], # to calculate LE spectrum\n",
    "\n",
    "    # KRAEMER DELAY EMBEDDING\n",
    "    \"tau_max_kraemer\": 100,\n",
    "    \"valbins\": 0.005, # normalised value binning interval for shannon entropy\n",
    "\n",
    "}"
   ]
  },
  {
   "cell_type": "markdown",
   "metadata": {},
   "source": [
    "## Package everything up"
   ]
  },
  {
   "cell_type": "code",
   "execution_count": 6,
   "metadata": {},
   "outputs": [],
   "source": [
    "import pickle\n",
    "import json\n",
    "from utils.load_utils import JsonEncoder\n",
    "\n",
    "# COLLECT OPTS\n",
    "opts = {\n",
    "    \"exp_code\": exp_code,\n",
    "    \"exp_meta\": exp_meta,\n",
    "    \"sampling_freq\": desired_sampling_freq,\n",
    "    \"run_code\": run_code,\n",
    "    \"working_dir\": working_dir,\n",
    "    \"data_dir\": data_dir,\n",
    "    \"results_dir\": results_dir,\n",
    "    \"datapath\": datapath,\n",
    "    \"picklepath\": picklepath,\n",
    "    \"csvtspath\": csvtspath,\n",
    "    \"windows\": windows,\n",
    "    \"dynsys_params\": dynsys_params\n",
    "}\n",
    "\n",
    "# WRITE TO PICKLE\n",
    "opts_picklepath = results_dir + \"/opts.pickle\"\n",
    "with open(opts_picklepath, 'wb') as f:\n",
    "    pickle.dump(opts, f)\n",
    "\n",
    "# WRITE TO JSON\n",
    "opts_jsonpath = results_dir + \"/opts.json\"\n",
    "with open(opts_jsonpath, 'w') as f_:\n",
    "    f_.write( json.dumps(opts, indent=4, cls=JsonEncoder) )\n"
   ]
  }
 ],
 "metadata": {
  "kernelspec": {
   "display_name": "venv",
   "language": "python",
   "name": "python3"
  },
  "language_info": {
   "codemirror_mode": {
    "name": "ipython",
    "version": 3
   },
   "file_extension": ".py",
   "mimetype": "text/x-python",
   "name": "python",
   "nbconvert_exporter": "python",
   "pygments_lexer": "ipython3",
   "version": "3.12.4"
  }
 },
 "nbformat": 4,
 "nbformat_minor": 2
}
