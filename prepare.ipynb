{
 "cells": [
  {
   "cell_type": "code",
   "execution_count": 1,
   "metadata": {},
   "outputs": [],
   "source": [
    "from utils.load_utils import get_exp_meta\n",
    "\n",
    "# EXPERIMENT META \n",
    "exp_code = \"b1378\"\n",
    "exp_meta = get_exp_meta(exp_code)\n",
    "run_code = \"05\"\n",
    "desired_sampling_freq = 100"
   ]
  },
  {
   "cell_type": "code",
   "execution_count": 2,
   "metadata": {},
   "outputs": [
    {
     "name": "stdout",
     "output_type": "stream",
     "text": [
      "WARNING: results dir already contains data\n"
     ]
    }
   ],
   "source": [
    "import os\n",
    "\n",
    "# JUPYTER\n",
    "# %matplotlib widget\n",
    "%reload_ext autoreload\n",
    "%autoreload 2\n",
    "\n",
    "# FILENAMES\n",
    "working_dir = os.getcwd()\n",
    "data_dir = working_dir + \"/data\"\n",
    "results_dir = working_dir + \"/results/\" + run_code\n",
    "datapath = data_dir + \"/\" + exp_code + \".txt\"\n",
    "picklepath = data_dir + '/' + exp_code + \"_\" + str(desired_sampling_freq) + \"hz.pickle\"\n",
    "\n",
    "# MAKE RESULTS DIR IF NOT EXISTS\n",
    "if os.path.exists(results_dir):\n",
    "    if os.listdir(results_dir):\n",
    "        print(\"WARNING: results dir already contains data\")\n",
    "else:\n",
    "    os.makedirs(results_dir)"
   ]
  },
  {
   "cell_type": "markdown",
   "metadata": {},
   "source": [
    "## Import data"
   ]
  },
  {
   "cell_type": "code",
   "execution_count": 3,
   "metadata": {},
   "outputs": [
    {
     "name": "stdout",
     "output_type": "stream",
     "text": [
      "Importing BRAVA data...\n",
      "...reading pickle...\n",
      "... data imported\n",
      "\n",
      "       V-LVDT    H-LVDT  SHEAR STRESS  NORMAL STRESS  ON BOARD LVDT  \\\n",
      "1 -20.458876  3.900012     36.392466      37.496096    8085.390963   \n",
      "2 -19.756089  3.828950     36.149439      37.502314    7401.586860   \n",
      "3 -20.172372  3.870818     36.278847      37.497589    7805.820603   \n",
      "4 -19.875916  3.840934     36.194602      37.503356    7518.537433   \n",
      "5 -20.106215  3.864276     36.257370      37.497426    7741.648624   \n",
      "\n",
      "   V Load aux     TIME  NORMALISED SHEAR  \n",
      "1    1.817732  2466.01          0.719940  \n",
      "2    1.805686  2466.02          0.636561  \n",
      "3    1.812695  2466.03          0.680959  \n",
      "4    1.808001  2466.04          0.652056  \n",
      "5    1.812111  2466.05          0.673591  \n"
     ]
    },
    {
     "data": {
      "text/plain": [
       "[<matplotlib.lines.Line2D at 0x7fa8169e8290>]"
      ]
     },
     "execution_count": 3,
     "metadata": {},
     "output_type": "execute_result"
    },
    {
     "data": {
      "image/png": "[encoded data removed]",
      "text/plain": [
       "<Figure size 640x480 with 1 Axes>"
      ]
     },
     "metadata": {},
     "output_type": "display_data"
    }
   ],
   "source": [
    "from utils.load_utils import import_brava_data\n",
    "import matplotlib.pyplot as plt\n",
    "\n",
    "# IMPORT\n",
    "args = dict((k, exp_meta[k]) for k in [\"t_start\", \"t_end\", \"ROIs\"] if k in exp_meta)\n",
    "data = import_brava_data(datapath, picklepath, downsample_factor=(exp_meta[\"sampling_freq\"] / desired_sampling_freq), **args)\n",
    "\n",
    "# HAVE A LOOK\n",
    "print(\"\\n\", data.head())\n",
    "# plt.close(\"all\")\n",
    "plt.plot(data[\"TIME\"], data[\"SHEAR STRESS\"])\n",
    "# plt.show()"
   ]
  },
  {
   "cell_type": "markdown",
   "metadata": {},
   "source": [
    "## Generate windows"
   ]
  },
  {
   "cell_type": "code",
   "execution_count": 4,
   "metadata": {},
   "outputs": [
    {
     "name": "stdout",
     "output_type": "stream",
     "text": [
      "Number of windows: 11\n"
     ]
    }
   ],
   "source": [
    "# sliding windows\n",
    "win_length = 250000\n",
    "win_offset = 125000\n",
    "\n",
    "num_wins = (len(data) - win_length) // win_offset\n",
    "windows = []\n",
    "for i in range(num_wins):\n",
    "    windows.append((i*win_offset, i*win_offset + win_length))\n",
    "print(\"Number of windows:\", num_wins)"
   ]
  },
  {
   "cell_type": "code",
   "execution_count": 5,
   "metadata": {},
   "outputs": [],
   "source": [
    "# turn ROIs into windows\n",
    "# windows = []\n",
    "# for roi in exp_meta[\"ROIs\"]:\n",
    "#     masked = data[ data[\"TIME\"].between(roi[0], roi[1]) ]\n",
    "#     windows.append((masked.index[0], masked.index[-1]))"
   ]
  },
  {
   "cell_type": "markdown",
   "metadata": {},
   "source": [
    "## Set dynamics parameters"
   ]
  },
  {
   "cell_type": "code",
   "execution_count": 6,
   "metadata": {},
   "outputs": [],
   "source": [
    "import numpy as np\n",
    "dynsys_params = {\n",
    "\n",
    "    # CALCULATE BEST m, tau BY CAO (1997)\n",
    "    \"tau_to_try\": np.array([5,15,30,50,80,120,170,250]),\n",
    "    \"m_to_try\": np.arange(1,13,1),\n",
    "    \"E1_threshold\": 0.9,\n",
    "    \"E2_threshold\": 0.9,\n",
    "    \"eps_over_L0\": 0.05,\n",
    "    \"n_neighbors\": 13,\n",
    "\n",
    "    # LYAPUNOV CALCULATIONS\n",
    "    \"sampling\": ['rand',None] # to calculate LE spectrum\n",
    "\n",
    "}"
   ]
  },
  {
   "cell_type": "markdown",
   "metadata": {},
   "source": [
    "## Package everything up"
   ]
  },
  {
   "cell_type": "code",
   "execution_count": 7,
   "metadata": {},
   "outputs": [],
   "source": [
    "import pickle\n",
    "import json\n",
    "from utils.load_utils import JsonEncoder\n",
    "\n",
    "# COLLECT OPTS\n",
    "opts = {\n",
    "    \"exp_code\": exp_code,\n",
    "    \"exp_meta\": exp_meta,\n",
    "    \"sampling_freq\": desired_sampling_freq,\n",
    "    \"run_code\": run_code,\n",
    "    \"working_dir\": working_dir,\n",
    "    \"data_dir\": data_dir,\n",
    "    \"results_dir\": results_dir,\n",
    "    \"datapath\": datapath,\n",
    "    \"picklepath\": picklepath,\n",
    "    \"windows\": windows,\n",
    "    \"dynsys_params\": dynsys_params\n",
    "}\n",
    "\n",
    "# WRITE TO PICKLE\n",
    "opts_picklepath = results_dir + \"/opts.pickle\"\n",
    "with open(opts_picklepath, 'wb') as f:\n",
    "    pickle.dump(opts, f)\n",
    "\n",
    "# WRITE TO JSON\n",
    "opts_jsonpath = results_dir + \"/opts.json\"\n",
    "with open(opts_jsonpath, 'w') as f_:\n",
    "    f_.write( json.dumps(opts, indent=4, cls=JsonEncoder) )\n"
   ]
  }
 ],
 "metadata": {
  "kernelspec": {
   "display_name": ".venv",
   "language": "python",
   "name": "python3"
  },
  "language_info": {
   "codemirror_mode": {
    "name": "ipython",
    "version": 3
   },
   "file_extension": ".py",
   "mimetype": "text/x-python",
   "name": "python",
   "nbconvert_exporter": "python",
   "pygments_lexer": "ipython3",
   "version": "3.11.2"
  }
 },
 "nbformat": 4,
 "nbformat_minor": 2
}
