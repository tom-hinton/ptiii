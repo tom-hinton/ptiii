{
 "cells": [
  {
   "cell_type": "markdown",
   "metadata": {},
   "source": [
    "## Load Results"
   ]
  },
  {
   "cell_type": "code",
   "execution_count": 9,
   "metadata": {},
   "outputs": [],
   "source": [
    "run_code = \"09\"\n",
    "\n",
    "# JUPYTER\n",
    "%matplotlib inline\n",
    "%reload_ext autoreload\n",
    "%autoreload 2\n",
    "\n",
    "import os\n",
    "import pickle\n",
    "import utils.plot_utils as plot\n",
    "import numpy as np\n",
    "import matplotlib.pyplot as plt\n",
    "results_dir = os.getcwd() + \"/results/\" + run_code\n",
    "outputpath = results_dir + \"/output.pickle\"\n",
    "with open(outputpath, \"rb\") as f:\n",
    "    df = pickle.load(f)\n",
    "with open(results_dir + \"/opts.pickle\", \"rb\") as f:\n",
    "    opts = pickle.load(f)\n",
    "with open(opts[\"picklepath\"], \"rb\") as f:\n",
    "    data = pickle.load(f)"
   ]
  },
  {
   "cell_type": "markdown",
   "metadata": {},
   "source": [
    "## Plots"
   ]
  },
  {
   "cell_type": "markdown",
   "metadata": {},
   "source": [
    "#### Dimensionality vs time"
   ]
  },
  {
   "cell_type": "code",
   "execution_count": null,
   "metadata": {},
   "outputs": [],
   "source": [
    "fig, ax = plt.subplots()\n",
    "ax.plot(df[\"m\"], label=\"embedding dimension, m\")\n",
    "ax.plot(df[\"KYD\"], label=\"Kaplan-Yorke Dimension\")\n",
    "fig.legend()"
   ]
  },
  {
   "cell_type": "markdown",
   "metadata": {},
   "source": [
    "#### Loop through time windows: Cao method summary plot"
   ]
  },
  {
   "cell_type": "code",
   "execution_count": null,
   "metadata": {},
   "outputs": [],
   "source": [
    "from utils.load_utils import normalise_shear\n",
    "for i, row in df.iterrows():\n",
    "    data_ = normalise_shear(data[row[\"win_start\"]:row[\"win_end\"]].copy())\n",
    "    plot.summary_calc_m_tau(data_, opts[\"dynsys_params\"][\"tau_to_try\"], opts[\"dynsys_params\"][\"E1_thresh\"], row[\"E1s\"], row[\"E2s\"], row[\"eps_over_L\"], row[\"m\"], row[\"tau\"])"
   ]
  }
 ],
 "metadata": {
  "kernelspec": {
   "display_name": ".venv",
   "language": "python",
   "name": "python3"
  },
  "language_info": {
   "codemirror_mode": {
    "name": "ipython",
    "version": 3
   },
   "file_extension": ".py",
   "mimetype": "text/x-python",
   "name": "python",
   "nbconvert_exporter": "python",
   "pygments_lexer": "ipython3",
   "version": "3.11.2"
  }
 },
 "nbformat": 4,
 "nbformat_minor": 2
}
