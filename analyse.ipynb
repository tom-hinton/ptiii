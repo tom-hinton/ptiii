{
 "cells": [
  {
   "cell_type": "markdown",
   "metadata": {},
   "source": [
    "## Load Results"
   ]
  },
  {
   "cell_type": "code",
   "execution_count": 2,
   "metadata": {},
   "outputs": [],
   "source": [
    "run_code = \"07\"\n",
    "\n",
    "# JUPYTER\n",
    "%matplotlib inline\n",
    "%reload_ext autoreload\n",
    "%autoreload 2\n",
    "\n",
    "import os\n",
    "import pickle\n",
    "import utils.plot_utils as plot\n",
    "import numpy as np\n",
    "import matplotlib.pyplot as plt\n",
    "import pandas as pd\n",
    "import json\n",
    "from itertools import cycle\n",
    "results_dir = os.getcwd() + \"/results/\" + run_code\n",
    "outputpath = results_dir + \"/output.pickle\"\n",
    "with open(outputpath, \"rb\") as f:\n",
    "    df = pickle.load(f)\n",
    "with open(results_dir + \"/opts.pickle\", \"rb\") as f:\n",
    "    opts = pickle.load(f)\n",
    "with open(opts[\"picklepath\"], \"rb\") as f:\n",
    "    data = pickle.load(f)\n",
    "if os.path.isfile(results_dir + \"/output_julia.json\"):\n",
    "    FLAG_JULIA = True\n",
    "    with open(results_dir + \"/output_julia.json\") as f:\n",
    "        julia = json.load(f)\n",
    "    julia = pd.DataFrame(julia)\n",
    "    df = df.join(julia)\n",
    "else:\n",
    "    FLAG_JULIA = False\n",
    "df[\"t_centre\"] = (df[\"t_start\"]+df[\"t_end\"])/2"
   ]
  },
  {
   "cell_type": "markdown",
   "metadata": {},
   "source": [
    "## Plots"
   ]
  },
  {
   "cell_type": "code",
   "execution_count": null,
   "metadata": {},
   "outputs": [],
   "source": [
    "###   DIMENSIONALITY VS TIME   ###\n",
    "##################################\n",
    "fig, ax = plt.subplots(layout=\"constrained\")\n",
    "fig.set_size_inches(6, 4)\n",
    "ax.plot(df[\"t_centre\"], df[\"m\"], label=\"Cao embedding dimension\")\n",
    "ax.plot(df[\"t_centre\"], df[\"KYD\"], label=\"Kaplan-Yorke Dimension\")\n",
    "if FLAG_JULIA:\n",
    "    ax.plot(df[\"t_centre\"], df[\"m_kraemer\"], label=\"Kraemer (2021) embedding dimension\")\n",
    "fig.suptitle(\"Dimension vs time\")\n",
    "fig.legend(loc=\"lower left\", fontsize=\"8\")\n",
    "ax.set_ylabel(\"Dimension\")\n",
    "ax.set_xlabel(\"Time\")\n",
    "# ax.set_ylim(5, 8)\n",
    "plot.watermark(ax, data, color=\"white\")\n",
    "if \"ROIs\" in opts[\"exp_meta\"]:\n",
    "    plot.roi_spans(ax, opts[\"exp_meta\"][\"ROIs\"])\n",
    "    # clr_cycler = cycle([(.5,.5,.5), (.65, .65, .65)])\n",
    "    # for i, ROI in enumerate(opts[\"exp_meta\"][\"ROIs\"]):\n",
    "    #     wind = windf.iloc[i]\n",
    "    #     annot_string = \"$m_{cao}=\"+str(int(wind[\"m\"]))+\"$\\n$m_{kra}=\"+str(int(wind[\"m_kraemer\"]))+\"$\\n$KYD=\"+str(round(wind[\"KYD\"],2))+\"$\"\n",
    "    #     ax.annotate(annot_string, ((ROI[1]+ROI[0])/2, .86), xycoords=(\"data\", \"figure fraction\"), ha=\"center\", va=\"top\", fontsize=\"8\", color=(.5,.5,.5))"
   ]
  },
  {
   "cell_type": "code",
   "execution_count": null,
   "metadata": {},
   "outputs": [],
   "source": [
    "###   CAO SUMMARY FOR WINDOW   ###\n",
    "##################################\n",
    "from utils.load_utils import normalise_shear\n",
    "row = df.iloc[20]\n",
    "data_ = normalise_shear(data[row[\"win_start\"]:row[\"win_end\"]].copy())\n",
    "plot.summary_calc_m_tau(data_, opts[\"dynsys_params\"][\"tau_to_try\"], opts[\"dynsys_params\"][\"E1_thresh\"], row[\"E1s\"], row[\"E2s\"], row[\"eps_over_L\"], int(row[\"m\"]), int(row[\"tau\"]))"
   ]
  },
  {
   "cell_type": "code",
   "execution_count": null,
   "metadata": {},
   "outputs": [],
   "source": [
    "###   SHANNON ENTROPY   ###\n",
    "############################\n",
    "fig, ax = plt.subplots(layout=\"constrained\")\n",
    "ax.plot(df[\"t_centre\"], df[\"shannon_entropy_vb\"])\n",
    "fig.suptitle(\"Entropy vs time\")\n",
    "ax.set_ylabel(\"Shannon entropy\")\n",
    "ax.set_xlabel(\"Time\")\n",
    "plot.watermark(ax, data)\n",
    "if \"ROIs\" in opts[\"exp_meta\"]:\n",
    "    plot.roi_spans(ax, opts[\"exp_meta\"][\"ROIs\"])"
   ]
  }
 ],
 "metadata": {
  "kernelspec": {
   "display_name": ".venv",
   "language": "python",
   "name": "python3"
  },
  "language_info": {
   "codemirror_mode": {
    "name": "ipython",
    "version": 3
   },
   "file_extension": ".py",
   "mimetype": "text/x-python",
   "name": "python",
   "nbconvert_exporter": "python",
   "pygments_lexer": "ipython3",
   "version": "3.11.2"
  }
 },
 "nbformat": 4,
 "nbformat_minor": 2
}
