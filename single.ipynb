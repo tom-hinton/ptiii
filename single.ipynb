{
 "cells": [
  {
   "cell_type": "code",
   "execution_count": null,
   "metadata": {},
   "outputs": [],
   "source": [
    "# IMPORTS\n",
    "import os\n",
    "import pandas as pd\n",
    "import numpy as np\n",
    "from utils.load_utils import import_brava_data, get_import_params\n",
    "from utils.data_utils import calculate_fft, calculate_tau_ami, calculate_best_m_tau, calculate_lyapunov_exponents\n",
    "from utils.dynsys_utils import calc_dim_Cao1997\n",
    "import matplotlib.pyplot as plt\n",
    "\n",
    "\n",
    "# JUPYTER\n",
    "%matplotlib widget\n",
    "%reload_ext autoreload\n",
    "%autoreload 2\n",
    "\n",
    "\n",
    "# KEY VARIABLES\n",
    "main_dir = os.getcwd()\n",
    "data_dir = main_dir + '/data'\n",
    "exp_name = 'b1383'\n",
    "filename = data_dir + '/' + exp_name + '.txt'\n",
    "picklename = data_dir + '/' + exp_name + '.pickle'\n",
    "\n",
    "\n",
    "# IMPORT PARAMS\n",
    "import_params = get_import_params(exp_name)\n",
    "import_params[\"downsample_factor\"] = 50"
   ]
  },
  {
   "cell_type": "markdown",
   "metadata": {},
   "source": [
    "### Import data"
   ]
  },
  {
   "cell_type": "code",
   "execution_count": null,
   "metadata": {},
   "outputs": [],
   "source": [
    "data = import_brava_data(filename, picklename, import_params)\n",
    "data = data.tail(2000)\n",
    "\n",
    "win = {\n",
    "    \"t_start\": data.iloc[0].TIME,\n",
    "    \"t_end\": data.iloc[-1].TIME,\n",
    "    \"i_start\": data.head(1).index.item(),\n",
    "    \"i_end\": data.tail(1).index.item()\n",
    "}\n",
    "\n",
    "print(\"Data head:\")\n",
    "print(data.head())\n",
    "\n",
    "\n",
    "plt.close(\"all\")\n",
    "plt.plot(data[\"TIME\"], data[\"SHEAR STRESS\"])\n",
    "plt.show()"
   ]
  },
  {
   "cell_type": "markdown",
   "metadata": {},
   "source": [
    "### Calculate FFT"
   ]
  },
  {
   "cell_type": "code",
   "execution_count": null,
   "metadata": {},
   "outputs": [],
   "source": [
    "fft = calculate_fft(data)\n",
    "plt.plot(fft)\n",
    "plt.show()"
   ]
  },
  {
   "cell_type": "markdown",
   "metadata": {},
   "source": [
    "### Calculate best tau by AMI\n",
    "Auto-mutual information minimisation by Fraser and Swinney (1986)."
   ]
  },
  {
   "cell_type": "code",
   "execution_count": null,
   "metadata": {},
   "outputs": [],
   "source": [
    "tau_ami = calculate_tau_ami(data)\n",
    "print(\"printing tau_ami\")\n",
    "print(tau_ami)"
   ]
  },
  {
   "cell_type": "markdown",
   "metadata": {},
   "source": [
    "### Calculating best tau by minimising Lyapunov radius\n",
    "From Sano and Sawada"
   ]
  },
  {
   "cell_type": "code",
   "execution_count": null,
   "metadata": {},
   "outputs": [],
   "source": [
    "m, tau = calculate_best_m_tau(data)\n",
    "print(f\"\\nBest m = {str(m)}, tau={str(tau)}\")"
   ]
  },
  {
   "cell_type": "markdown",
   "metadata": {},
   "source": [
    "### Plot attractor"
   ]
  },
  {
   "cell_type": "code",
   "execution_count": null,
   "metadata": {},
   "outputs": [],
   "source": [
    "# plot_attractor(data, m, tau)\n",
    "from utils.dynsys_utils import embed_1dim\n",
    "H = embed_1dim(data[\"SHEAR STRESS\"], tau=int(tau), m=int(m)).T\n",
    "plt.figure().add_subplot(projection='3d')\n",
    "plt.plot(H[:,0], H[:,1], H[:,2])"
   ]
  },
  {
   "cell_type": "markdown",
   "metadata": {},
   "source": [
    "### Calculate Lyapunov exponents"
   ]
  },
  {
   "cell_type": "code",
   "execution_count": null,
   "metadata": {},
   "outputs": [],
   "source": [
    "LEs, kyd = calculate_lyapunov_exponents(data, m, tau)\n",
    "print(\"Lyapunov Exponents:\", LEs)\n",
    "print(\"Kaplan-Yorke dimension:\", kyd)"
   ]
  }
 ],
 "metadata": {
  "kernelspec": {
   "display_name": ".venv",
   "language": "python",
   "name": "python3"
  },
  "language_info": {
   "codemirror_mode": {
    "name": "ipython",
    "version": 3
   },
   "file_extension": ".py",
   "mimetype": "text/x-python",
   "name": "python",
   "nbconvert_exporter": "python",
   "pygments_lexer": "ipython3",
   "version": "3.11.2"
  }
 },
 "nbformat": 4,
 "nbformat_minor": 2
}
